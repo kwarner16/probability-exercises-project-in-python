{
 "cells": [
  {
   "cell_type": "markdown",
   "id": "a41f3622",
   "metadata": {},
   "source": [
    "# Probability exercises"
   ]
  },
  {
   "cell_type": "markdown",
   "id": "a6bdbd89",
   "metadata": {},
   "source": [
    "## Exercise 1 \n",
    "\n",
    "Two dices are thrown once and the total score is observed. Use a simulation to find the estimated probability that the total score is even or greater than 7.  A simulation is a repetition of the same experiment multiple times to observe its behavior:\n",
    "\n",
    "- Run the experiment 1000 times (roll 2 dice 1000 times, and sum the number of both dices).\n",
    "- Keep track of the number of times that the sum was either greater than 7 or an even number.\n",
    "- Divide the number from step 2 by the number of iterations (1000)."
   ]
  },
  {
   "cell_type": "code",
   "execution_count": 147,
   "id": "8939d892",
   "metadata": {},
   "outputs": [
    {
     "name": "stdout",
     "output_type": "stream",
     "text": [
      "The probability of rolling two dice summed together that equals a number greater than 7 or is even: 65.0%\n"
     ]
    }
   ],
   "source": [
    "import random\n",
    "import numpy as np\n",
    "\n",
    "def dice_probability(n=1000):\n",
    "    even_or_less_count = 0\n",
    "\n",
    "    #TODO run experiment n times\n",
    "    for _ in range(n):\n",
    "        dice1 = random.randint(1, 6)\n",
    "        dice2 = random.randint(1, 6)\n",
    "        \n",
    "        #TODO Sum dice values\n",
    "        roll_total = dice1 + dice2\n",
    "\n",
    "        if (roll_total > 7) | (roll_total % 2 == 0):\n",
    "            even_or_less_count += 1\n",
    "\n",
    "    return even_or_less_count / n\n",
    "\n",
    "experiment = np.round(dice_probability(), 2)\n",
    "print(f\"The probability of rolling two dice summed together that equals a number greater than 7 or is even: {experiment * 100}%\")\n"
   ]
  },
  {
   "cell_type": "markdown",
   "id": "55732bca",
   "metadata": {},
   "source": [
    "## Exercise 2\n",
    "\n",
    "A box contains 10 white balls, 20 red balls and 30 green balls. If we take 5 balls from the box with replacement (we take the ball, observe what color it is and put it back into the box). We want to know the probability of:\n",
    "\n",
    "1. Take 3 white and 2 red.\n",
    "2. Take all of the same color.\n",
    "\n",
    "Run the experiment 1000 times and calculate the above probabilities."
   ]
  },
  {
   "cell_type": "code",
   "execution_count": 183,
   "id": "23244d20",
   "metadata": {},
   "outputs": [
    {
     "name": "stdout",
     "output_type": "stream",
     "text": [
      "The odds of 3 white and 2 red is 0.5%.\n",
      "The odds of all 5 balls being the same color: 3.0%.\n"
     ]
    }
   ],
   "source": [
    "import numpy as np\n",
    "\n",
    "ball_box = {}\n",
    "\n",
    "# Create the box of balls\n",
    "for i in range(60):\n",
    "    if i < 10:\n",
    "        ball_box[i] = \"White\"\n",
    "    elif (i > 9) and (i < 30):\n",
    "        ball_box[i] = \"Red\"\n",
    "    else:\n",
    "        ball_box[i] = \"Green\"\n",
    "\n",
    "def color_probability(n=1000):\n",
    "    \"\"\"Takes ball_box, iterates 1,000 times, grabs 5 ball every iteration,\n",
    "    returns the probability of grabbing: 3 white and 2 red or all of the same color\"\"\"\n",
    "\n",
    "    red_white_count = 0\n",
    "    same_color_count = 0\n",
    "\n",
    "    # run 1,000 times\n",
    "    for _ in range(n):\n",
    "        previous_colors = []\n",
    "\n",
    "        # Take 5 balls\n",
    "        for _ in range(5):\n",
    "            previous_colors.append(ball_box[np.random.randint(0, 59)])\n",
    "        \n",
    "        previous_colors = np.array(previous_colors)\n",
    "\n",
    "        # Filter dictionary\n",
    "        white = sum(previous_colors == \"White\")\n",
    "        red = sum(previous_colors == \"Red\")\n",
    "        green = sum(previous_colors == 'Green')\n",
    "\n",
    "        # Conditionals\n",
    "        if (white == 3) & (red == 2):\n",
    "            red_white_count += 1 \n",
    "        if (white == 5) | (red == 5) | (green == 5):\n",
    "            same_color_count += 1\n",
    "\n",
    "    return red_white_count / n, same_color_count / n\n",
    "\n",
    "\n",
    "color_ratio, same_color = color_probability()\n",
    "\n",
    "print(f\"The odds of 3 white and 2 red is {np.round(color_ratio * 100, 2)}%.\")\n",
    "print(f\"The odds of all 5 balls being the same color: {np.round(same_color * 100, 2)}%.\")"
   ]
  }
 ],
 "metadata": {
  "kernelspec": {
   "display_name": "Python 3",
   "language": "python",
   "name": "python3"
  },
  "language_info": {
   "codemirror_mode": {
    "name": "ipython",
    "version": 3
   },
   "file_extension": ".py",
   "mimetype": "text/x-python",
   "name": "python",
   "nbconvert_exporter": "python",
   "pygments_lexer": "ipython3",
   "version": "3.11.4"
  }
 },
 "nbformat": 4,
 "nbformat_minor": 5
}
